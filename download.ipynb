{
 "cells": [
  {
   "cell_type": "code",
   "execution_count": null,
   "id": "a73c8c8f",
   "metadata": {},
   "outputs": [],
   "source": [
    "from pymatgen.ext.matproj import MPRester\n",
    "with MPRester(\"OrxTdTdienuaKM79RmZ\") as m:\n",
    "\n",
    "    # Structure for material id\n",
    "    structure = m.get_structure_by_material_id(\"mp-1008680\")\n",
    "    \n",
    "    # Dos for material id\n",
    "    dos = m.get_dos_by_material_id(\"mp-1008680\")\n",
    "\n",
    "    # Bandstructure for material id\n",
    "    bandstructure = m.get_bandstructure_by_material_id(\"mp-1008680\")\n",
    "    \n",
    "# To get a list of data for all entries having formula Fe2O3\n",
    "data = m.get_data(\"TiGePt\")\n",
    "\n",
    "\n"
   ]
  }
 ],
 "metadata": {
  "kernelspec": {
   "display_name": "Python 3",
   "language": "python",
   "name": "python3"
  },
  "language_info": {
   "codemirror_mode": {
    "name": "ipython",
    "version": 3
   },
   "file_extension": ".py",
   "mimetype": "text/x-python",
   "name": "python",
   "nbconvert_exporter": "python",
   "pygments_lexer": "ipython3",
   "version": "3.6.8"
  }
 },
 "nbformat": 4,
 "nbformat_minor": 5
}
