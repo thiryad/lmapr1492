{
 "cells": [
  {
   "cell_type": "code",
   "execution_count": 18,
   "id": "314e5705",
   "metadata": {},
   "outputs": [
    {
     "name": "stdout",
     "output_type": "stream",
     "text": [
      "Pic numéro :  1 \n",
      "\n",
      "Angle 25.757730958516742 \n",
      "\n",
      "Hauteur du pic en pourcentage 96.30445386720655 \n",
      "\n",
      "Indices hkl : (1, 1, 1)  de multiplicité  8\n",
      "_____\n",
      "Pic numéro :  2 \n",
      "\n",
      "Angle 29.828345681730756 \n",
      "\n",
      "Hauteur du pic en pourcentage 6.013651802367908 \n",
      "\n",
      "Indices hkl : (2, 0, 0)  de multiplicité  6\n",
      "_____\n",
      "Pic numéro :  3 \n",
      "\n",
      "Angle 42.689491469103565 \n",
      "\n",
      "Hauteur du pic en pourcentage 100.0 \n",
      "\n",
      "Indices hkl : (2, 2, 0)  de multiplicité  12\n",
      "_____\n"
     ]
    }
   ],
   "source": [
    "from pymatgen.io.cif import CifWriter\n",
    "from pymatgen.ext.matproj import MPRester\n",
    "from pymatgen.symmetry.analyzer import SpacegroupAnalyzer\n",
    "\n",
    "from pymatgen.analysis.diffraction.xrd import XRDCalculator\n",
    "\n",
    "with MPRester(\"OrxTdTdienuaKM79RmZ\") as m:\n",
    "\n",
    "    # Structure for material id\n",
    "    structure = m.get_structure_by_material_id(\"mp-1008680\")\n",
    "\n",
    "new_stru= SpacegroupAnalyzer(structure)\n",
    "\n",
    "old_stru = new_stru.get_conventional_standard_structure()\n",
    "\n",
    "xrd = XRDCalculator().get_pattern(old_stru)\n",
    "angle = (xrd.x)[0:3]\n",
    "hauteur = (xrd.intensity)[0:3] \n",
    "hkl = xrd.hkls[0:3] \n",
    "\n",
    "for i in range(3):\n",
    "    print(\"Pic numéro : \", i+1, \"\\n\")\n",
    "    print(\"Angle\", angle[i], \"\\n\")\n",
    "    print(\"Hauteur du pic en pourcentage\", hauteur[i], \"\\n\")\n",
    "    print(\"Indices hkl :\", hkl[i][0].get(\"hkl\"), \" de multiplicité \", hkl[i][0].get(\"multiplicity\"))\n",
    "    \n",
    "    \n",
    "    print(\"_____\")"
   ]
  },
  {
   "cell_type": "code",
   "execution_count": 4,
   "id": "3503f185",
   "metadata": {},
   "outputs": [],
   "source": []
  },
  {
   "cell_type": "code",
   "execution_count": null,
   "id": "2663d95a",
   "metadata": {},
   "outputs": [],
   "source": []
  }
 ],
 "metadata": {
  "kernelspec": {
   "display_name": "Python 3",
   "language": "python",
   "name": "python3"
  },
  "language_info": {
   "codemirror_mode": {
    "name": "ipython",
    "version": 3
   },
   "file_extension": ".py",
   "mimetype": "text/x-python",
   "name": "python",
   "nbconvert_exporter": "python",
   "pygments_lexer": "ipython3",
   "version": "3.6.8"
  }
 },
 "nbformat": 4,
 "nbformat_minor": 5
}
