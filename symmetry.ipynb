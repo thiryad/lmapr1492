{
 "cells": [
  {
   "cell_type": "code",
   "execution_count": 81,
   "id": "e74d9b76",
   "metadata": {},
   "outputs": [
    {
     "name": "stdout",
     "output_type": "stream",
     "text": [
      "[PeriodicSite: Ti (0.0000, 0.0000, 0.0000) [0.0000, 0.0000, 0.0000], PeriodicSite: Ti (0.0000, 2.9954, 2.9954) [0.0000, 0.5000, 0.5000], PeriodicSite: Ti (2.9954, 0.0000, 2.9954) [0.5000, 0.0000, 0.5000], PeriodicSite: Ti (2.9954, 2.9954, 0.0000) [0.5000, 0.5000, 0.0000], PeriodicSite: Ge (2.9954, 0.0000, 0.0000) [0.5000, 0.0000, 0.0000], PeriodicSite: Ge (2.9954, 2.9954, 2.9954) [0.5000, 0.5000, 0.5000], PeriodicSite: Ge (0.0000, 0.0000, 2.9954) [0.0000, 0.0000, 0.5000], PeriodicSite: Ge (0.0000, 2.9954, 0.0000) [0.0000, 0.5000, 0.0000], PeriodicSite: Pt (1.4977, 1.4977, 4.4930) [0.2500, 0.2500, 0.7500], PeriodicSite: Pt (1.4977, 4.4930, 1.4977) [0.2500, 0.7500, 0.2500], PeriodicSite: Pt (4.4930, 1.4977, 1.4977) [0.7500, 0.2500, 0.2500], PeriodicSite: Pt (4.4930, 4.4930, 4.4930) [0.7500, 0.7500, 0.7500]]\n",
      "Choisissons une première rotation :\n",
      "Rot:\n",
      "[[-1. -1. -1.]\n",
      " [ 0.  0.  1.]\n",
      " [ 0.  1.  0.]]\n",
      "tau\n",
      "[0. 0. 0.]\n"
     ]
    },
    {
     "data": {
      "application/vnd.jupyter.widget-view+json": {
       "model_id": "876b227f61024de6a3371ef2578358f3",
       "version_major": 2,
       "version_minor": 0
      },
      "text/plain": [
       "JsmolView(layout=Layout(align_self='stretch', height='400px'))"
      ]
     },
     "metadata": {},
     "output_type": "display_data"
    },
    {
     "data": {
      "application/vnd.jupyter.widget-view+json": {
       "model_id": "876b227f61024de6a3371ef2578358f3",
       "version_major": 2,
       "version_minor": 0
      },
      "text/plain": [
       "JsmolView(layout=Layout(align_self='stretch', height='400px'))"
      ]
     },
     "metadata": {},
     "output_type": "display_data"
    }
   ],
   "source": [
    "from jupyter_jsmol import JsmolView\n",
    "from jupyter_jsmol.pymatgen import quick_view\n",
    "from IPython.display import display\n",
    "from ipywidgets import Layout, widgets, interact\n",
    "\n",
    "from pymatgen.symmetry.structure import SymmetrizedStructure\n",
    "from pymatgen.symmetry.analyzer import SpacegroupAnalyzer\n",
    "from pymatgen.core.operations import SymmOp\n",
    "from pymatgen.core.lattice import Lattice\n",
    "from pymatgen.ext.matproj import MPRester\n",
    "from pymatgen.io.cif import CifWriter\n",
    "\n",
    "view1 = JsmolView.from_file(\"mystructure.cif\", inline=True) # pythonic way but it might be slower\n",
    "view1\n",
    "\n",
    "\n",
    "with MPRester(\"OrxTdTdienuaKM79RmZ\") as m:\n",
    "\n",
    "    # Structure for material id\n",
    "    structure = m.get_structure_by_material_id(\"mp-1008680\")\n",
    "\n",
    "new_stru= SpacegroupAnalyzer(structure)\n",
    "\n",
    "old_stru = new_stru.get_conventional_standard_structure()\n",
    "\n",
    "symlist = new_stru.get_symmetry_operations()\n",
    "positions = old_stru.sites\n",
    "\n",
    "print(positions)\n",
    "\n",
    "print(\"Choisissons une première rotation :\")\n",
    "\n",
    "rot1 = symlist[4]\n",
    "print(rot1)\n",
    "\n",
    "v1 = quick_view(structure,supercell= [2,2,2])\n",
    "display(v1)\n",
    "v1\n",
    "v1.script(\"draw symop 2 {atomno=2}\")\n",
    "v1\n"
   ]
  },
  {
   "cell_type": "markdown",
   "id": "3199d5d3",
   "metadata": {},
   "source": [
    "La première rotation peut se représenter comme telle : \n",
    "\\begin{pmatrix}\n",
    "-1 & -1 & -1\\\\\n",
    "0 & 0 & 1\\\\\n",
    "0 & 1 & 0\n",
    "\\end{pmatrix}"
   ]
  },
  {
   "cell_type": "code",
   "execution_count": 52,
   "id": "48f41094",
   "metadata": {},
   "outputs": [
    {
     "name": "stdout",
     "output_type": "stream",
     "text": [
      "Effet de l'axe de rotation sur l'atome Ti situé en (0, 1/2, 1/2) : \n",
      "[-1.   0.5  0.5]\n"
     ]
    }
   ],
   "source": [
    "Eff1 = rot1.operate((0, 1/2, 1/2))\n",
    "print(\"Effet de l'axe de rotation sur l'atome Ti situé en (0, 1/2, 1/2) : \")\n",
    "print(Eff1) "
   ]
  },
  {
   "cell_type": "code",
   "execution_count": 53,
   "id": "422724ae",
   "metadata": {},
   "outputs": [
    {
     "name": "stdout",
     "output_type": "stream",
     "text": [
      "Choisissons une deuxième rotation :\n",
      "Rot:\n",
      "[[0. 1. 0.]\n",
      " [0. 0. 1.]\n",
      " [1. 0. 0.]]\n",
      "tau\n",
      "[0. 0. 0.]\n"
     ]
    }
   ],
   "source": [
    "\n",
    "print(\"Choisissons une deuxième rotation :\")\n",
    "rot2 = symlist[10]\n",
    "print(rot2)\n"
   ]
  },
  {
   "cell_type": "code",
   "execution_count": 54,
   "id": "8373e46f",
   "metadata": {},
   "outputs": [
    {
     "name": "stdout",
     "output_type": "stream",
     "text": [
      "Effet de l'axe de rotation sur l'atome Ge situé en (1/2, 1/2, 1/2) : \n",
      "[0.5 0.5 0.5]\n"
     ]
    }
   ],
   "source": [
    "\n",
    "print(\"Effet de l'axe de rotation sur l'atome Ge situé en (1/2, 1/2, 1/2) : \")\n",
    "Eff2 = rot2.operate((1/2, 1/2, 1/2))\n",
    "print(Eff2)"
   ]
  },
  {
   "cell_type": "markdown",
   "id": "4bcede5d",
   "metadata": {},
   "source": [
    "La seconde rotation peut se représenter comme telle : \n",
    "\\begin{pmatrix}\n",
    "0 & 1 & 0\\\\\n",
    "0 & 0 & 1\\\\\n",
    "1 & 0 & 0\n",
    "\\end{pmatrix}"
   ]
  },
  {
   "cell_type": "code",
   "execution_count": 55,
   "id": "3d9347c8",
   "metadata": {},
   "outputs": [
    {
     "name": "stdout",
     "output_type": "stream",
     "text": [
      "Choisissons une troisième rotation :\n",
      "Rot:\n",
      "[[ 0.  1.  0.]\n",
      " [-1. -1. -1.]\n",
      " [ 0.  0.  1.]]\n",
      "tau\n",
      "[0. 0. 0.]\n"
     ]
    }
   ],
   "source": [
    "print(\"Choisissons une troisième rotation :\")\n",
    "rot3 = symlist[16]\n",
    "print(rot3)"
   ]
  },
  {
   "cell_type": "code",
   "execution_count": 56,
   "id": "f5b66aa0",
   "metadata": {},
   "outputs": [
    {
     "name": "stdout",
     "output_type": "stream",
     "text": [
      "Effet de l'axe de rotation sur l'atome Pt situé en (1/4, 3/4, 1/4) : \n",
      "[ 0.75 -1.25  0.25]\n"
     ]
    }
   ],
   "source": [
    "print(\"Effet de l'axe de rotation sur l'atome Pt situé en (1/4, 3/4, 1/4) : \")\n",
    "Eff3 = rot3.operate((1/4, 3/4, 1/4))\n",
    "print(Eff3)"
   ]
  },
  {
   "cell_type": "markdown",
   "id": "a6b738db",
   "metadata": {},
   "source": [
    "La première rotation peut se représenter comme telle : \n",
    "\\begin{pmatrix}\n",
    "0 & 1 & 0\\\\\n",
    "-1 & -1 & -1\\\\\n",
    "0 & 0 & 1\n",
    "\\end{pmatrix}"
   ]
  },
  {
   "cell_type": "code",
   "execution_count": null,
   "id": "dfa4f308",
   "metadata": {},
   "outputs": [],
   "source": []
  },
  {
   "cell_type": "code",
   "execution_count": null,
   "id": "005ef691",
   "metadata": {},
   "outputs": [],
   "source": []
  },
  {
   "cell_type": "code",
   "execution_count": null,
   "id": "971c379d",
   "metadata": {},
   "outputs": [],
   "source": []
  }
 ],
 "metadata": {
  "kernelspec": {
   "display_name": "Python 3",
   "language": "python",
   "name": "python3"
  },
  "language_info": {
   "codemirror_mode": {
    "name": "ipython",
    "version": 3
   },
   "file_extension": ".py",
   "mimetype": "text/x-python",
   "name": "python",
   "nbconvert_exporter": "python",
   "pygments_lexer": "ipython3",
   "version": "3.6.8"
  }
 },
 "nbformat": 4,
 "nbformat_minor": 5
}
