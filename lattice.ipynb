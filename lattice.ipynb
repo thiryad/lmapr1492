{
 "cells": [
  {
   "cell_type": "markdown",
   "id": "f8a2c120",
   "metadata": {},
   "source": [
    "# Tâche 5"
   ]
  },
  {
   "cell_type": "markdown",
   "id": "3711489b",
   "metadata": {},
   "source": [
    "##  Téléchargement du ﬁchier CIF du matériau TiGePt"
   ]
  },
  {
   "cell_type": "code",
   "execution_count": 1,
   "id": "ccbba343",
   "metadata": {},
   "outputs": [],
   "source": [
    "#pour déterminer les vecteurs de bases des ses\n",
    "#réseaux direct et réciproque, son type de maille, son système cristallin, \n",
    "#ainsi que son groupe ponctuel.\n",
    "\n",
    "from pymatgen.core.structure import Structure, Molecule\n",
    "from pymatgen.symmetry.analyzer import SpacegroupAnalyzer\n",
    "from pymatgen.core.lattice import Lattice\n",
    "from pymatgen.ext.matproj import MPRester\n",
    "with MPRester(\"OrxTdTdienuaKM79RmZ\") as m:\n",
    "\n",
    "    # Structure for material id\n",
    "    structure = m.get_structure_by_material_id(\"mp-1008680\")\n"
   ]
  },
  {
   "cell_type": "markdown",
   "id": "c55ffadd",
   "metadata": {},
   "source": [
    "## Récupération des données\n",
    "On détermine les vecteurs de bases de ses réseaux direct et réciproque, son type de maille, son système cristallin, ainsi que son groupe ponctuel."
   ]
  },
  {
   "cell_type": "code",
   "execution_count": 2,
   "id": "d30d36b3",
   "metadata": {},
   "outputs": [
    {
     "name": "stdout",
     "output_type": "stream",
     "text": [
      "Vecteurs de base du réseau direct : \n",
      " 0.000000 2.995355 2.995355\n",
      "2.995355 0.000000 2.995355\n",
      "2.995355 2.995355 0.000000 \n",
      "\n",
      "Vecteurs de base du réseau réciproque : \n",
      " -1.048821 1.048821 1.048821\n",
      "1.048821 -1.048821 1.048821\n",
      "1.048821 1.048821 -1.048821 \n",
      "\n",
      "Type de maille : \n",
      " cubic \n",
      "\n",
      "Système cristallin : \n",
      " cubic \n",
      "\n",
      "Groupe ponctuel : \n",
      " -43m\n"
     ]
    }
   ],
   "source": [
    "new_stru= SpacegroupAnalyzer(structure)\n",
    "\n",
    "\n",
    "#vecteurs de bases du réseau direct\n",
    "res = new_stru.get_primitive_standard_structure()\n",
    "\n",
    "res1 = res.lattice\n",
    "print(\"Vecteurs de base du réseau direct : \\n\", res1, \"\\n\")\n",
    "\n",
    "res2 = res.lattice.reciprocal_lattice\n",
    "print(\"Vecteurs de base du réseau réciproque : \\n\", res2, \"\\n\")\n",
    "\n",
    "\n",
    "#type de maille\n",
    "latt = new_stru.get_lattice_type()\n",
    "print(\"Type de maille : \\n\", latt, \"\\n\")\n",
    "\n",
    "#système cristallin\n",
    "crys = new_stru.get_crystal_system()\n",
    "print(\"Système cristallin : \\n\", crys, \"\\n\")\n",
    "\n",
    "\n",
    "#groupe ponctuel\n",
    "pg = new_stru.get_point_group_symbol()\n",
    "print(\"Groupe ponctuel : \\n\", pg)"
   ]
  },
  {
   "cell_type": "code",
   "execution_count": null,
   "id": "86dbd7b7",
   "metadata": {},
   "outputs": [],
   "source": []
  },
  {
   "cell_type": "code",
   "execution_count": null,
   "id": "f0531863",
   "metadata": {},
   "outputs": [],
   "source": []
  },
  {
   "cell_type": "code",
   "execution_count": null,
   "id": "45c568ff",
   "metadata": {},
   "outputs": [],
   "source": []
  }
 ],
 "metadata": {
  "kernelspec": {
   "display_name": "Python 3",
   "language": "python",
   "name": "python3"
  },
  "language_info": {
   "codemirror_mode": {
    "name": "ipython",
    "version": 3
   },
   "file_extension": ".py",
   "mimetype": "text/x-python",
   "name": "python",
   "nbconvert_exporter": "python",
   "pygments_lexer": "ipython3",
   "version": "3.6.8"
  }
 },
 "nbformat": 4,
 "nbformat_minor": 5
}
